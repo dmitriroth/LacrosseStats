{
 "cells": [
  {
   "cell_type": "markdown",
   "id": "b34de7be-5399-48c9-bc2b-64c41294d787",
   "metadata": {},
   "source": [
    "# What is success?\n",
    "## The case for total games won.\n",
    "Total games won gives you a much better statistical model.\n",
    "## The case for playoff games won.\n",
    "This has some measure of looking at games won against the best opponents in the country.\n",
    "## The case for a championship.\n",
    "This is the ultimate goal and would remove noise from winning against inferior opponents."
   ]
  },
  {
   "cell_type": "code",
   "execution_count": null,
   "id": "066bbda6-01eb-4634-9f71-ba6c5d15989a",
   "metadata": {},
   "outputs": [],
   "source": []
  },
  {
   "cell_type": "code",
   "execution_count": null,
   "id": "5df30ac0-b0df-456a-906b-77c27b0ecd83",
   "metadata": {},
   "outputs": [],
   "source": []
  }
 ],
 "metadata": {
  "kernelspec": {
   "display_name": "Python 3 (ipykernel)",
   "language": "python",
   "name": "python3"
  },
  "language_info": {
   "codemirror_mode": {
    "name": "ipython",
    "version": 3
   },
   "file_extension": ".py",
   "mimetype": "text/x-python",
   "name": "python",
   "nbconvert_exporter": "python",
   "pygments_lexer": "ipython3",
   "version": "3.13.5"
  }
 },
 "nbformat": 4,
 "nbformat_minor": 5
}
